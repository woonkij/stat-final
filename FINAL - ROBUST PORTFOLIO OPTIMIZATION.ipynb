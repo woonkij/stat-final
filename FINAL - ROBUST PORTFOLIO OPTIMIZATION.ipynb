{
 "cells": [
  {
   "cell_type": "code",
   "execution_count": 1,
   "metadata": {
    "collapsed": false
   },
   "outputs": [
    {
     "data": {
      "text/plain": [
       "{'divide': 'warn', 'invalid': 'warn', 'over': 'warn', 'under': 'ignore'}"
      ]
     },
     "execution_count": 1,
     "metadata": {},
     "output_type": "execute_result"
    }
   ],
   "source": [
    "# import cvxpy as cp\n",
    "from cvxpy import *\n",
    "import pandas as pd\n",
    "import numpy as np\n",
    "import math\n",
    "np.set_printoptions(suppress=True)\n",
    "np.seterr(invalid='ignore')\n"
   ]
  },
  {
   "cell_type": "code",
   "execution_count": 2,
   "metadata": {
    "collapsed": true
   },
   "outputs": [],
   "source": [
    "def calculate_portfolio_risk(POS, FACTOR_EXP, SIGMA):\n",
    "    t1 = np.matmul(np.matrix(POS), np.matrix(FACTOR_EXP))\n",
    "    t1 = np.matmul(t1, np.matrix(SIGMA))\n",
    "    t1 = np.matmul(t1, np.matrix(FACTOR_EXP).T)\n",
    "    t1 = np.matmul(t1, np.matrix(POS).T)\n",
    "    return math.sqrt(t1)\n",
    "\n",
    "\n",
    "def calculate_portfolio_risk_factor(POS, FACTOR_EXP, SIGMA, SPECIFIC):\n",
    "    t1 = np.matmul(np.matrix(POS), np.matrix(FACTOR_EXP))\n",
    "    t1 = np.matmul(t1, np.matrix(SIGMA))\n",
    "    t1 = np.matmul(t1, np.matrix(FACTOR_EXP).T)\n",
    "    t1 = np.matmul(t1, np.matrix(POS).T)\n",
    "    system_risk = t1\n",
    "    \n",
    "    t2 = np.matmul(np.matrix(POS), np.matrix(SPECIFIC))\n",
    "    t2 = np.matmul(t2, np.matrix(POS).T)\n",
    "    total_risk = math.sqrt(t1 + t2)\n",
    "    return total_risk\n",
    "\n"
   ]
  },
  {
   "cell_type": "code",
   "execution_count": 77,
   "metadata": {
    "collapsed": false
   },
   "outputs": [
    {
     "name": "stdout",
     "output_type": "stream",
     "text": [
      "Current Portfolio Factor Exposure:[[-0.40525482 -0.69501158 -2.15829861]]\n",
      " ** Checking Validity of Optimization ** \n",
      "Problem Status:optimal\n",
      "Optimized Risk:73672.23404706718\n",
      "Solution: [1000000.00026084  999999.99596652 1999999.54915289  458894.45749089\n",
      "  158735.96301375]\n",
      "\n",
      "\n",
      "\n",
      "\n",
      "Optimization Summary\n",
      "Checking solutions with risk calculation ... \n",
      "Old risk: 78420.37549681758\n",
      "New risk: 73672.23404706718\n",
      "Change In Position: [     0.00026084     -0.00403348     -0.45084711 458894.45749089\n",
      " 158735.96301375]\n",
      "Gross Constraint Satisfied:  False\n",
      "Gross Actual Value: 4.617629965884885 vs Constraint: 4.0\n",
      "Turnover: 0.6176308756460628 vs Constraint: 0.4\n"
     ]
    }
   ],
   "source": [
    "# *************************************\n",
    "# Optimization - with Trading Cost \n",
    "# n stocks\n",
    "# alp as ALPHA\n",
    "# n - alp as HEDGE\n",
    "# factor of 3 x 3\n",
    "# solve with w_new, w_old with $ positions\n",
    "np.random.seed(3)\n",
    "n = 5\n",
    "numFactor = 3\n",
    "dataseries = {}\n",
    "rowlist = []\n",
    "# Generate 500 price return series from 10 names\n",
    "for i, v in enumerate(range(numFactor)):\n",
    "    dataseries[v] = ((1 - np.random.lognormal(0, 0.03, numFactor)))\n",
    "    \n",
    "for ke in dataseries.keys():\n",
    "    rowlist.append(dataseries[ke])\n",
    "\n",
    "# Generate Timeseries into pd\n",
    "timeseries = pd.DataFrame(rowlist)\n",
    "vcv = timeseries.cov()\n",
    "factor_exp = pd.DataFrame(np.random.randn(n, numFactor))\n",
    "specific_risk = pd.DataFrame(np.diag(np.random.uniform(0, 0.0020, n)))\n",
    "\n",
    "# set position vector\n",
    "w_old = [1000000., 1000000., 2000000., 0., 0.]\n",
    "\n",
    "# position constraints\n",
    "w_lb = [999999.9, 999999.9, 1999999., -5000000., -5000000.]\n",
    "w_ub = [1000000.1, 1000000.1, 2000000.1, 5000000., 5000000.]\n",
    "\n",
    "a1 = np.matmul(np.matrix(w_old), np.matrix(factor_exp))\n",
    "print(\"Current Portfolio Factor Exposure:\" + str(a1 / 1000000))\n",
    "# # factor constraints\n",
    "# Current exp: -2.16, -4.11, -2.25\n",
    "#l = [x * 2 for x in l]\n",
    "f_lb = [1000000 * x for x in [-1., -1., -1.]]\n",
    "f_ub = [1000000 * x for x in [ 5.,  5.,  5.]]\n",
    "\n",
    "\n",
    "# # Set up the quadratic optimization problem\n",
    "w = Variable(n)\n",
    "f = np.array(factor_exp).T * w \n",
    "\n",
    "# Gross Constraints\n",
    "# sum(abs(w)) <= 5000000\n",
    "\n",
    "# Turn-Over Constraints\n",
    "\n",
    "# Trading Constraints\n",
    "trading_cost = np.array([0., 0., 0., 0., 0.])\n",
    "# Holding Constraints\n",
    "holding_cost = np.array([-1., -1., -1., -1., -1.])\n",
    "# Market Impact Constraints\n",
    "mi_cost = np.array([0., 0., 0., -0.1, -0.1])\n",
    "mi_cost = (w - w_old) * mi_cost\n",
    "\n",
    "gamma = Parameter(nonneg=True)\n",
    "Lmax = Parameter()\n",
    "GrossConstraints = Parameter()\n",
    "risk = quad_form(f, vcv) + quad_form(w, np.array(specific_risk))\n",
    "\n",
    "problem = Problem(Minimize(risk + norm(mi_cost, 1)),\n",
    "                  [\n",
    "                      w >= w_lb,\n",
    "                      w <= w_ub,\n",
    "                      # max(sum(w - w_old).value, sum(w_old - w).value) <= 2000000.,\n",
    "                      #w <= w_ub,\n",
    "                      # w[0] == 1000000.,\n",
    "                      # [1] == -1000000.,\n",
    "                      # w[2] == 2000000.,\n",
    "                      # sum(abs(w - w_old).value) <= (Lmax * sum(abs(w_old))).value,\n",
    "                      # f >= f_lb,\n",
    "                      # f <= f_ub,\n",
    "                      # sum(w) <= 4000000 # Net USD Constraints\n",
    "                      # sum(abs(w).value) <= GrossConstraints.value\n",
    "                     \n",
    "                  ])\n",
    "\n",
    "Lmax.value = .10\n",
    "GrossConstraints.value = sum((w_old))\n",
    "\n",
    "problem.solve(verbose=False)\n",
    "print(\" ** Checking Validity of Optimization ** \")\n",
    "print(\"Problem Status:\" + str(problem.status))\n",
    "print(\"Optimized Risk:\" + str(sqrt(risk).value))\n",
    "print(\"Solution: \" + str(w.value))\n",
    "\n",
    "\n",
    "\n",
    "print(\"\\n\\n\\n\\nOptimization Summary\")\n",
    "print(\"Checking solutions with risk calculation ... \")\n",
    "print(\"Old risk: \" + str(calculate_portfolio_risk_factor(w_old, factor_exp, vcv, specific_risk)))\n",
    "print(\"New risk: \" + str(calculate_portfolio_risk_factor(w.value, factor_exp, vcv, specific_risk)))\n",
    "print(\"Change In Position: \" + str(w.value-w_old))\n",
    "# print(\"Optimized Factor Value: \" + str(f.value))\n",
    "# print(\"Factor Constraints: \" + str(f_lb))\n",
    "# print(\"Factor Constraints: \" + str(f_ub))\n",
    "# print(\"Factor LB Satisfied: \", f.value >= f_lb)\n",
    "# print(\"Factor UB Satisfied: \", f.value <= f_ub)\n",
    "print(\"Gross Constraint Satisfied: \", (sum(abs(w)).value) <= GrossConstraints.value)\n",
    "print(\"Gross Actual Value: \" + str(sum(abs(w)).value / 1000000) + \" vs Constraint: \" + str(GrossConstraints.value / 1000000))\n",
    "print(\"Turnover: \" + str(sum(abs(w-w_old)).value / 1000000) + \" vs Constraint: \" + str(Lmax.value * sum(abs(w_old)).value / 1000000))\n"
   ]
  },
  {
   "cell_type": "code",
   "execution_count": 4,
   "metadata": {
    "collapsed": true
   },
   "outputs": [],
   "source": [
    "# Things to work on\n",
    "# 1. Piecewise Market Impact Penalty\n",
    "# 2. Drawing Plot using gridsearching for market impact, Trading, Holding and Risk Aversion Parameter"
   ]
  },
  {
   "cell_type": "code",
   "execution_count": 22,
   "metadata": {
    "collapsed": false
   },
   "outputs": [
    {
     "name": "stdout",
     "output_type": "stream",
     "text": [
      "optimal\n"
     ]
    }
   ],
   "source": [
    "print(problem.status)"
   ]
  },
  {
   "cell_type": "code",
   "execution_count": 76,
   "metadata": {
    "collapsed": false
   },
   "outputs": [
    {
     "data": {
      "text/plain": [
       "3999983.3244577013"
      ]
     },
     "execution_count": 76,
     "metadata": {},
     "output_type": "execute_result"
    }
   ],
   "source": [
    "sum(w).value"
   ]
  },
  {
   "cell_type": "code",
   "execution_count": 16,
   "metadata": {
    "collapsed": false
   },
   "outputs": [
    {
     "data": {
      "text/plain": [
       "-2620821.2214875673"
      ]
     },
     "execution_count": 16,
     "metadata": {},
     "output_type": "execute_result"
    }
   ],
   "source": [
    "sum(w_old-w).value"
   ]
  },
  {
   "cell_type": "code",
   "execution_count": null,
   "metadata": {
    "collapsed": false
   },
   "outputs": [],
   "source": [
    "# # *************************************\n",
    "# # Optimization - with Trading Cost \n",
    "# # n stocks\n",
    "# # alp as ALPHA\n",
    "# # n - alp as HEDGE\n",
    "# # factor of 3 x 3\n",
    "# # solve with w_new, w_old with $ positions\n",
    "# np.random.seed(3)\n",
    "# n = 5\n",
    "# numFactor = 3\n",
    "# dataseries = {}\n",
    "# rowlist = []\n",
    "# # Generate 500 price return series from 10 names\n",
    "# for i, v in enumerate(range(numFactor)):\n",
    "#     dataseries[v] = ((1 - np.random.lognormal(0, 0.03, numFactor)))\n",
    "    \n",
    "# for ke in dataseries.keys():\n",
    "#     rowlist.append(dataseries[ke])\n",
    "\n",
    "# # Generate Timeseries into pd\n",
    "# timeseries = pd.DataFrame(rowlist)\n",
    "# vcv = timeseries.cov()\n",
    "# factor_exp = pd.DataFrame(np.random.randn(n, numFactor))\n",
    "# specific_risk = pd.DataFrame(np.diag(np.random.uniform(0, 0.0020, n)))\n",
    "\n",
    "# # set position vector\n",
    "# w_old = [0.3, 0.3, 0.4, 0., 0.]\n",
    "\n",
    "# # position constraints\n",
    "# w_lb = [0.3, 0.3, 0.4, -1., -1.]\n",
    "# w_ub = [1., 1., 1., 1., 1.]\n",
    "\n",
    "# a1 = np.matmul(np.matrix(w_old), np.matrix(factor_exp))\n",
    "# print(\"Current Portfolio Factor Exposure:\" + str(a1 / 1000000))\n",
    "# # # factor constraints\n",
    "# # Current exp: -2.16, -4.11, -2.25\n",
    "# #l = [x * 2 for x in l]\n",
    "# f_lb = [1000000 * x for x in [-1., -1., -1.]]\n",
    "# f_ub = [1000000 * x for x in [ 5.,  5.,  5.]]\n",
    "\n",
    "\n",
    "# # # Set up the quadratic optimization problem\n",
    "# w = Variable(n)\n",
    "# f = np.array(factor_exp).T * w \n",
    "\n",
    "# # Gross Constraints\n",
    "# # sum(abs(w)) <= 5000000\n",
    "\n",
    "# # Turn-Over Constraints\n",
    "\n",
    "# # Trading Constraints\n",
    "# trading_cost = np.array([0., 0., 0., 0., 0.])\n",
    "# # Holding Constraints\n",
    "# holding_cost = np.array([-1., -1., -1., -1., -1.])\n",
    "# # Market Impact Constraints\n",
    "# mi_cost = np.array([0., 0., 0., -0.0010, -0.0030])\n",
    "# mi_cost = abs(w - w_old) * mi_cost\n",
    "\n",
    "# gamma = Parameter(nonneg=True)\n",
    "# Lmax = Parameter()\n",
    "# GrossConstraints = Parameter()\n",
    "# risk = quad_form(f, vcv) + quad_form(w, np.array(specific_risk))\n",
    "\n",
    "# problem = Problem(Minimize(risk + norm(mi_cost, 1)),\n",
    "#                   [\n",
    "#                       w >= w_lb,\n",
    "#                       w <= w_ub,\n",
    "#                       sum(w) <= 2.0,\n",
    "#                       w[0] == 0.3\n",
    "                      \n",
    "#                       # max(sum(w - w_old).value, sum(w_old - w).value) <= 2000000.,\n",
    "#                       #w <= w_ub,\n",
    "#                       # w[0] == 1000000.,\n",
    "#                       # [1] == -1000000.,\n",
    "#                       # w[2] == 2000000.,\n",
    "#                       # sum(abs(w - w_old).value) <= (Lmax * sum(abs(w_old))).value,\n",
    "#                       #f >= f_lb,\n",
    "#                       # f <= f_ub,\n",
    "#                       # sum(abs(w).value) <= GrossConstraints.value\n",
    "                     \n",
    "#                   ])\n",
    "\n",
    "# Lmax.value = .30\n",
    "# GrossConstraints.value = sum((w_old))\n",
    "\n",
    "# problem.solve(verbose=False)\n",
    "# print(\" ** Checking Validity of Optimization ** \")\n",
    "# print(\"Problem Status:\" + str(problem.status))\n",
    "# print(\"Optimized Risk:\" + str(sqrt(risk).value))\n",
    "# print(\"Solution: \" + str(w.value))\n",
    "\n",
    "\n",
    "\n",
    "# print(\"\\n\\n\\n\\nOptimization Summary\")\n",
    "# print(\"Checking solutions with risk calculation ... \")\n",
    "# print(\"Old risk: \" + str(calculate_portfolio_risk_factor(w_old, factor_exp, vcv, specific_risk)))\n",
    "# print(\"New risk: \" + str(calculate_portfolio_risk_factor(w.value, factor_exp, vcv, specific_risk)))\n",
    "# print(\"Change In Position: \" + str(w.value-w_old))\n",
    "# # print(\"Optimized Factor Value: \" + str(f.value))\n",
    "# # print(\"Factor Constraints: \" + str(f_lb))\n",
    "# # print(\"Factor Constraints: \" + str(f_ub))\n",
    "# # print(\"Factor LB Satisfied: \", f.value >= f_lb)\n",
    "# # print(\"Factor UB Satisfied: \", f.value <= f_ub)\n",
    "# print(\"Gross Constraint Satisfied: \", (sum(abs(w)).value) <= GrossConstraints.value)\n",
    "# print(\"Gross Actual Value: \" + str(sum(abs(w)).value) + \" vs Constraint: \" + str(GrossConstraints.value))\n",
    "# print(\"Turnover: \" + str(sum(abs(w-w_old)).value) + \" vs Constraint: \" + str(Lmax.value * sum(abs(w_old)).value))"
   ]
  },
  {
   "cell_type": "code",
   "execution_count": 20,
   "metadata": {
    "collapsed": false
   },
   "outputs": [
    {
     "name": "stdout",
     "output_type": "stream",
     "text": [
      "Current Portfolio Factor Exposure:[[-0.40525482 -0.69501158 -2.15829861]]\n",
      " ** Checking Validity of Optimization ** \n",
      "Problem Status:optimal\n",
      "Optimized Risk:73672.21413871077\n",
      "Solution: [ 999999.98568569  999999.99136004 1999999.00284219  458894.70390355\n",
      "  158736.30861889]\n",
      "\n",
      "\n",
      "\n",
      "\n",
      "Optimization Summary\n",
      "Checking solutions with risk calculation ... \n",
      "Old risk: 78420.37549681758\n",
      "New risk: 73672.21413871077\n",
      "Change In Position: [    -0.01431431     -0.00863996     -0.99715781 458894.70390355\n",
      " 158736.30861889]\n",
      "Gross Constraint Satisfied:  False\n",
      "Gross Actual Value: 4.6176299924103485 vs Constraint: 4.0\n",
      "Turnover: 0.6176320326345289 vs Constraint: 0.4\n"
     ]
    }
   ],
   "source": [
    "# *************************************\n",
    "# Optimization - with Trading Cost \n",
    "# n stocks\n",
    "# alp as ALPHA\n",
    "# n - alp as HEDGE\n",
    "# factor of 3 x 3\n",
    "# solve with w_new, w_old with $ positions\n",
    "np.random.seed(3)\n",
    "n = 5\n",
    "numFactor = 3\n",
    "dataseries = {}\n",
    "rowlist = []\n",
    "# Generate 500 price return series from 10 names\n",
    "for i, v in enumerate(range(numFactor)):\n",
    "    dataseries[v] = ((1 - np.random.lognormal(0, 0.03, numFactor)))\n",
    "    \n",
    "for ke in dataseries.keys():\n",
    "    rowlist.append(dataseries[ke])\n",
    "\n",
    "# Generate Timeseries into pd\n",
    "timeseries = pd.DataFrame(rowlist)\n",
    "vcv = timeseries.cov()\n",
    "factor_exp = pd.DataFrame(np.random.randn(n, numFactor))\n",
    "specific_risk = pd.DataFrame(np.diag(np.random.uniform(0, 0.0020, n)))\n",
    "\n",
    "# set position vector\n",
    "w_old = [1000000., 1000000., 2000000., 0., 0.]\n",
    "\n",
    "# position constraints\n",
    "w_lb = [999999.9, 999999.9, 1999999., -5000000., -5000000.]\n",
    "w_ub = [1000000.1, 1000000.1, 2000000.1, 5000000., 5000000.]\n",
    "\n",
    "a1 = np.matmul(np.matrix(w_old), np.matrix(factor_exp))\n",
    "print(\"Current Portfolio Factor Exposure:\" + str(a1 / 1000000))\n",
    "# # factor constraints\n",
    "# Current exp: -2.16, -4.11, -2.25\n",
    "#l = [x * 2 for x in l]\n",
    "f_lb = [1000000 * x for x in [-1., -1., -1.]]\n",
    "f_ub = [1000000 * x for x in [ 5.,  5.,  5.]]\n",
    "\n",
    "\n",
    "# # Set up the quadratic optimization problem\n",
    "w = Variable(n)\n",
    "f = np.array(factor_exp).T * w \n",
    "f_old = np.array(factor_exp).T * (w - w_old)\n",
    "\n",
    "# Gross Constraints\n",
    "# sum(abs(w)) <= 5000000\n",
    "\n",
    "\n",
    "# Turn-Over Constraints\n",
    "\n",
    "# Trading Constraints\n",
    "trading_cost = np.array([0., 0., 0., -0.0030, -0.0020])\n",
    "trading_cost = (w - w_old) * trading_cost\n",
    "\n",
    "# Holding Constraints\n",
    "holding_cost = np.array([-1., -1., -1., -1., -1.])\n",
    "\n",
    "# Market Impact Constraints\n",
    "# MI \\proportionalto risk\n",
    "# Problem Setup\n",
    "# MI: http://faculty.haas.berkeley.edu/garleanu/DynTrad.pdf\n",
    "# Dynamic Trading With Predictable Returns & Transaction Costs\n",
    "\n",
    "\n",
    "gamma = Parameter(nonneg=True)\n",
    "Lmax = Parameter(nonneg=True)\n",
    "GrossConstraints = Parameter(nonneg=True)\n",
    "Lambda_MI = Parameter(nonneg=True)\n",
    "Lambda_TRDG = Parameter(nonneg=True)\n",
    "\n",
    "risk = quad_form(f, vcv) + quad_form(w, np.array(specific_risk))\n",
    "Market_Impact = quad_form(f - f_old, vcv) + quad_form(w - w_old, np.array(specific_risk))\n",
    "# Linear_MI = cvxpy.sqrt(w.value)\n",
    "Linear_MI = cvxpy.power(w.value, 1.5)\n",
    "\n",
    "\n",
    "# problem = Problem(Minimize(risk + Lambda_MI * Market_Impact + Lambda_TRDG * trading_cost),\n",
    "problem = Problem(Minimize(risk + Lambda_MI * Linear_MI + Lambda_TRDG * trading_cost),\n",
    "                  [\n",
    "                      w >= w_lb,\n",
    "                      w <= w_ub,\n",
    "                      # max(sum(w - w_old).value, sum(w_old - w).value) <= 2000000.,\n",
    "                      #w <= w_ub,\n",
    "                      # w[0] == 1000000.,\n",
    "                      # [1] == -1000000.,\n",
    "                      # w[2] == 2000000.,\n",
    "                      # sum(abs(w - w_old).value) <= (Lmax * sum(abs(w_old))).value, # Turnover Constraints\n",
    "                      # f >= f_lb,\n",
    "                      # f <= f_ub,\n",
    "                      # sum(w) <= 4000000 # Net USD Constraints \n",
    "                      # sum(abs(w).value) <= GrossConstraints.value # Gross Constraints\n",
    "                     \n",
    "                  ])\n",
    "\n",
    "Lmax.value = .10\n",
    "GrossConstraints.value = sum((w_old))\n",
    "Lambda_MI.value = 0.5\n",
    "Lambda_TRDG.value = 1.\n",
    "\n",
    "problem.solve(verbose=False)\n",
    "print(\" ** Checking Validity of Optimization ** \")\n",
    "print(\"Problem Status:\" + str(problem.status))\n",
    "print(\"Optimized Risk:\" + str(sqrt(risk).value))\n",
    "print(\"Solution: \" + str(w.value))\n",
    "\n",
    "\n",
    "\n",
    "print(\"\\n\\n\\n\\nOptimization Summary\")\n",
    "print(\"Checking solutions with risk calculation ... \")\n",
    "print(\"Old risk: \" + str(calculate_portfolio_risk_factor(w_old, factor_exp, vcv, specific_risk)))\n",
    "print(\"New risk: \" + str(calculate_portfolio_risk_factor(w.value, factor_exp, vcv, specific_risk)))\n",
    "print(\"Change In Position: \" + str(w.value-w_old))\n",
    "# print(\"Optimized Factor Value: \" + str(f.value))\n",
    "# print(\"Factor Constraints: \" + str(f_lb))\n",
    "# print(\"Factor Constraints: \" + str(f_ub))\n",
    "# print(\"Factor LB Satisfied: \", f.value >= f_lb)\n",
    "# print(\"Factor UB Satisfied: \", f.value <= f_ub)\n",
    "print(\"Gross Constraint Satisfied: \", (sum(abs(w)).value) <= GrossConstraints.value)\n",
    "print(\"Gross Actual Value: \" + str(sum(abs(w)).value / 1000000) + \" vs Constraint: \" + str(GrossConstraints.value / 1000000))\n",
    "print(\"Turnover: \" + str(sum(abs(w-w_old)).value / 1000000) + \" vs Constraint: \" + str(Lmax.value * sum(abs(w_old)).value / 1000000))\n",
    "\n"
   ]
  },
  {
   "cell_type": "code",
   "execution_count": 86,
   "metadata": {
    "collapsed": false
   },
   "outputs": [
    {
     "data": {
      "text/plain": [
       "(3, 5)"
      ]
     },
     "execution_count": 86,
     "metadata": {},
     "output_type": "execute_result"
    }
   ],
   "source": [
    "f_old.shape"
   ]
  },
  {
   "cell_type": "code",
   "execution_count": 87,
   "metadata": {
    "collapsed": false
   },
   "outputs": [
    {
     "data": {
      "text/plain": [
       "(3,)"
      ]
     },
     "execution_count": 87,
     "metadata": {},
     "output_type": "execute_result"
    }
   ],
   "source": [
    "f.shape"
   ]
  },
  {
   "cell_type": "code",
   "execution_count": 88,
   "metadata": {
    "collapsed": false
   },
   "outputs": [
    {
     "data": {
      "text/plain": [
       "Expression(AFFINE, UNKNOWN, (3,))"
      ]
     },
     "execution_count": 88,
     "metadata": {},
     "output_type": "execute_result"
    }
   ],
   "source": [
    "f"
   ]
  },
  {
   "cell_type": "code",
   "execution_count": 100,
   "metadata": {
    "collapsed": false
   },
   "outputs": [
    {
     "data": {
      "text/plain": [
       "array([[ -477218.03606426,   881318.05171678,  -809354.65684042,\n",
       "          300535.25016316,   -21762.68481644],\n",
       "       [-1313864.76906889,  1709573.0820989 , -1090719.66295779,\n",
       "         -336849.15045255,   157270.09024941],\n",
       "       [  884622.39107454,    50033.64271671, -3092953.97248588,\n",
       "         -362540.77856514,    25050.25059117]])"
      ]
     },
     "execution_count": 100,
     "metadata": {},
     "output_type": "execute_result"
    }
   ],
   "source": [
    "np.array(factor_exp).T * w.value"
   ]
  },
  {
   "cell_type": "code",
   "execution_count": 103,
   "metadata": {
    "collapsed": false
   },
   "outputs": [],
   "source": [
    "mi_cost.value\n",
    "trading_cost = np.array([0., 0., 0., 5., 5.])\n",
    "#trading_cost = (w - w_old) * trading_cost"
   ]
  },
  {
   "cell_type": "code",
   "execution_count": 107,
   "metadata": {
    "collapsed": false
   },
   "outputs": [
    {
     "data": {
      "text/plain": [
       "2058767.6208629627"
      ]
     },
     "execution_count": 107,
     "metadata": {},
     "output_type": "execute_result"
    }
   ],
   "source": [
    "((w-w_old) * trading_cost).value"
   ]
  },
  {
   "cell_type": "code",
   "execution_count": 5,
   "metadata": {
    "collapsed": false
   },
   "outputs": [
    {
     "data": {
      "text/plain": [
       "Expression(CONSTANT, NONNEGATIVE, ())"
      ]
     },
     "execution_count": 5,
     "metadata": {},
     "output_type": "execute_result"
    }
   ],
   "source": [
    "cvxpy.sqrt(5)"
   ]
  },
  {
   "cell_type": "code",
   "execution_count": null,
   "metadata": {
    "collapsed": true
   },
   "outputs": [],
   "source": []
  }
 ],
 "metadata": {
  "kernelspec": {
   "display_name": "Python 3",
   "language": "python",
   "name": "python3"
  },
  "language_info": {
   "codemirror_mode": {
    "name": "ipython",
    "version": 3
   },
   "file_extension": ".py",
   "mimetype": "text/x-python",
   "name": "python",
   "nbconvert_exporter": "python",
   "pygments_lexer": "ipython3",
   "version": "3.6.0"
  }
 },
 "nbformat": 4,
 "nbformat_minor": 2
}
